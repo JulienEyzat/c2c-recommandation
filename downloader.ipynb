{
 "cells": [
  {
   "cell_type": "code",
   "execution_count": 21,
   "metadata": {},
   "outputs": [],
   "source": [
    "import requests\n",
    "import tqdm\n",
    "import os\n",
    "import json"
   ]
  },
  {
   "cell_type": "code",
   "execution_count": 22,
   "metadata": {},
   "outputs": [],
   "source": [
    "# docs_uri = \"https://api.camptocamp.org/routes?act=snow_ice_mixed&offset={i}&limit=100\"\n",
    "docs_uri = \"https://api.camptocamp.org/outings?qa=medium,great&bbox=-206195,4647180,331666,5540122&act=snow_ice_mixed,hiking&offset={i}&limit=100\"\n",
    "doc_uri = \"https://api.camptocamp.org/outings/{doc_id}?cook=fr\"\n",
    "doc_type = \"outings\""
   ]
  },
  {
   "cell_type": "code",
   "execution_count": 23,
   "metadata": {},
   "outputs": [],
   "source": [
    "downloaded_ids = set([os.path.splitext(file_name)[0] for file_name in os.listdir(f\"./data/{doc_type}\")])"
   ]
  },
  {
   "cell_type": "code",
   "execution_count": 24,
   "metadata": {},
   "outputs": [],
   "source": [
    "r = requests.get(docs_uri.format(i=0))\n",
    "rjson = r.json()\n",
    "total_doc = rjson[\"total\"]"
   ]
  },
  {
   "cell_type": "code",
   "execution_count": 25,
   "metadata": {},
   "outputs": [
    {
     "data": {
      "text/plain": [
       "6089"
      ]
     },
     "execution_count": 25,
     "metadata": {},
     "output_type": "execute_result"
    }
   ],
   "source": [
    "total_doc"
   ]
  },
  {
   "cell_type": "code",
   "execution_count": 26,
   "metadata": {},
   "outputs": [
    {
     "name": "stderr",
     "output_type": "stream",
     "text": [
      "  0%|          | 0/61 [00:00<?, ?it/s]\n"
     ]
    }
   ],
   "source": [
    "doc_ids = []\n",
    "for i in tqdm.tqdm(range(0, total_doc+1, 100)):\n",
    "    r = requests.get(docs_uri.format(i=i))\n",
    "    rjson = r.json()\n",
    "    doc_ids += [ doc[\"document_id\"] for doc in rjson[\"documents\"] if \"documents\" in rjson]\n",
    "    if str(doc_ids[-1]) in downloaded_ids:\n",
    "        break"
   ]
  },
  {
   "cell_type": "code",
   "execution_count": 27,
   "metadata": {},
   "outputs": [
    {
     "data": {
      "text/plain": [
       "100"
      ]
     },
     "execution_count": 27,
     "metadata": {},
     "output_type": "execute_result"
    }
   ],
   "source": [
    "len(doc_ids)"
   ]
  },
  {
   "cell_type": "code",
   "execution_count": 28,
   "metadata": {},
   "outputs": [],
   "source": [
    "if not os.path.isdir(\"./data\"):\n",
    "    os.mkdir(\"./data\")\n",
    "if not os.path.isdir(os.path.join(\"./data\", doc_type)):\n",
    "    os.mkdir(os.path.join(\"./data\", doc_type))"
   ]
  },
  {
   "cell_type": "code",
   "execution_count": 29,
   "metadata": {},
   "outputs": [
    {
     "name": "stderr",
     "output_type": "stream",
     "text": [
      "100%|██████████| 100/100 [00:00<00:00, 761216.70it/s]\n"
     ]
    }
   ],
   "source": [
    "for doc_id in tqdm.tqdm(doc_ids):\n",
    "    if not str(doc_id) in downloaded_ids:\n",
    "        r = requests.get(doc_uri.format(doc_id=doc_id))\n",
    "        rjson = r.json()\n",
    "        with open(f\"./data/{doc_type}/{doc_id}.json\", 'w') as f:\n",
    "            json.dump(rjson, f)"
   ]
  },
  {
   "cell_type": "code",
   "execution_count": null,
   "metadata": {},
   "outputs": [],
   "source": []
  }
 ],
 "metadata": {
  "kernelspec": {
   "display_name": ".venv",
   "language": "python",
   "name": "python3"
  },
  "language_info": {
   "codemirror_mode": {
    "name": "ipython",
    "version": 3
   },
   "file_extension": ".py",
   "mimetype": "text/x-python",
   "name": "python",
   "nbconvert_exporter": "python",
   "pygments_lexer": "ipython3",
   "version": "3.11.7"
  }
 },
 "nbformat": 4,
 "nbformat_minor": 2
}
